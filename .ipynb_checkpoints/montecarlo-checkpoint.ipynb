{
 "cells": [
  {
   "cell_type": "code",
   "execution_count": 1,
   "id": "2ebfae47",
   "metadata": {},
   "outputs": [],
   "source": [
    "import numpy as np\n",
    "import pandas as pd\n",
    "import matplotlib.pyplot as plt\n",
    "import pyneb as pn\n",
    "import math\n",
    "\n",
    "df1=pd.read_excel(\"intensity_HH.xlsx\")\n",
    "df2=pd.read_excel(\"intensity_Orion.xlsx\")\n",
    "df1['sigma']=(df1['error']/100)*df1['I/I(Hbeta)']\n",
    "df2['sigma']=(df2['error']/100)*df2['I/I(Hbeta)']\n"
   ]
  },
  {
   "cell_type": "code",
   "execution_count": 2,
   "id": "6360e543",
   "metadata": {},
   "outputs": [],
   "source": [
    "\n",
    "DataFileDict = {\n",
    "'O2': {'atom': 'o_ii_atom_FFT04.dat', 'coll': 'o_ii_coll_Kal09.dat'},\n",
    "'O3': {'atom': 'o_iii_atom_SZ00-WFD96.dat', 'coll': 'o_iii_coll_SSB14.dat'},\n",
    "'N2': {'atom': 'n_ii_atom_FFT04.dat', 'coll': 'n_ii_coll_T11.dat'},\n",
    "'S2': {'atom': 's_ii_atom_IFF05.dat', 'coll': 's_ii_coll_TZ10.dat'},\n",
    "'S3': {'atom': 's_iii_atom_FFTI06.dat', 'coll': 's_iii_coll_GRHK14.dat'},\n",
    "'Ne3':{'atom': 'ne_iii_atom_McL11.dat', 'coll': 'ne_iii_coll_McL11.dat'},\n",
    "'Ar3':{'atom': 'ar_iii_atom_M83-KS86.dat', 'coll': 'ar_iii_coll_GMZ95.dat'},\n",
    "'Ar4':{'atom': 'ar_iv_atom_MZ82.dat', 'coll': 'ar_iv_coll_RB97.dat'},\n",
    "'Cl2':{'atom': 'cl_ii_atom_MZ83.dat', 'coll': 'cl_ii_coll_T04.dat'},\n",
    "'Cl3':{'atom': 'cl_iii_atom_Fal99.dat', 'coll': 'cl_iii_coll_BZ89.dat'},\n",
    "}\n",
    "\n",
    "pn.atomicData.setDataFileDict(DataFileDict)\n",
    "\n",
    "########################## Definimos los iones a usar. \n",
    "O3 = pn.Atom('O',3)\n",
    "N2 = pn.Atom('N',2)\n",
    "O2 = pn.Atom('O',2)\n",
    "S2 = pn.Atom('S',2)\n",
    "Cl3 = pn.Atom('Cl',3)\n",
    "Ar4 = pn.Atom('Ar',4)\n",
    "S3 = pn.Atom('S',3)\n",
    "Ne3 = pn.Atom('Ne',3)\n",
    "Ar3 = pn.Atom('Ar',3)\n",
    "He1 = pn.RecAtom('He',1)\n",
    "He2 = pn.RecAtom('He',2)\n",
    "H1 = pn.RecAtom('H', 1)"
   ]
  },
  {
   "cell_type": "code",
   "execution_count": 3,
   "id": "e7b44f51",
   "metadata": {},
   "outputs": [],
   "source": [
    "#HH object\n",
    "\n",
    "i3726_HH=df1['I/I(Hbeta)'][0]\n",
    "i3729_HH = df1['I/I(Hbeta)'][1]\n",
    "i3727b_HH = df1['I/I(Hbeta)'][2]\n",
    "i3868_HH = df1['I/I(Hbeta)'][3]\n",
    "i3967_HH = df1['I/I(Hbeta)'][4]\n",
    "i4026_HH = df1['I/I(Hbeta)'][5]\n",
    "i4363_HH = df1['I/I(Hbeta)'][6]\n",
    "i4388_HH = df1['I/I(Hbeta)'][7]\n",
    "i4471_HH = df1['I/I(Hbeta)'][8]\n",
    "i4686_HH= df1['I/I(Hbeta)'][9]\n",
    "i4711_HH = df1['I/I(Hbeta)'][10]\n",
    "i4740_HH =df1['I/I(Hbeta)'][11]\n",
    "i4922_HH = df1['I/I(Hbeta)'][12]\n",
    "i4959_HH = df1['I/I(Hbeta)'][13]\n",
    "i5007_HH = df1['I/I(Hbeta)'][14]\n",
    "i5518_HH = df1['I/I(Hbeta)'][15]\n",
    "i5538_HH= df1['I/I(Hbeta)'][16]\n",
    "i5755_HH = df1['I/I(Hbeta)'][17]\n",
    "i5876_HH = df1['I/I(Hbeta)'][18]\n",
    "i6312_HH = df1['I/I(Hbeta)'][19]\n",
    "i6548_HH =df1['I/I(Hbeta)'][20]\n",
    "i6584_HH = df1['I/I(Hbeta)'][21]\n",
    "i6678_HH = df1['I/I(Hbeta)'][22]\n",
    "i6716_HH = df1['I/I(Hbeta)'][23]\n",
    "i6731_HH = df1['I/I(Hbeta)'][24]\n",
    "i7135_HH = df1['I/I(Hbeta)'][25]\n",
    "i7319b_HH = df1['I/I(Hbeta)'][26]\n",
    "i7330b_HH = df1['I/I(Hbeta)'][27]\n",
    "i7325b_HH=df1['I/I(Hbeta)'][28]\n",
    "\n",
    "i3726_O=df2['I/I(Hbeta)'][0]\n",
    "i3729_O = df2['I/I(Hbeta)'][1]\n",
    "i3727b_O = df2['I/I(Hbeta)'][2]\n",
    "i3868_O = df2['I/I(Hbeta)'][3]\n",
    "i3967_O = df2['I/I(Hbeta)'][4]\n",
    "i4026_O = df2['I/I(Hbeta)'][5]\n",
    "i4363_O = df2['I/I(Hbeta)'][6]\n",
    "i4388_O = df2['I/I(Hbeta)'][7]\n",
    "i4471_O = df2['I/I(Hbeta)'][8]\n",
    "i4686_O= df2['I/I(Hbeta)'][9]\n",
    "i4711_O = df2['I/I(Hbeta)'][10]\n",
    "i4740_O =df2['I/I(Hbeta)'][11]\n",
    "i4922_O = df2['I/I(Hbeta)'][12]\n",
    "i4959_O = df2['I/I(Hbeta)'][13]\n",
    "i5007_O = df2['I/I(Hbeta)'][14]\n",
    "i5518_O = df2['I/I(Hbeta)'][15]\n",
    "i5538_O= df2['I/I(Hbeta)'][16]\n",
    "i5755_O = df2['I/I(Hbeta)'][17]\n",
    "i5876_O = df2['I/I(Hbeta)'][18]\n",
    "i6312_O = df2['I/I(Hbeta)'][19]\n",
    "i6548_O =df2['I/I(Hbeta)'][20]\n",
    "i6584_O = df2['I/I(Hbeta)'][21]\n",
    "i6678_O = df2['I/I(Hbeta)'][22]\n",
    "i6716_O = df2['I/I(Hbeta)'][23]\n",
    "i6731_O = df2['I/I(Hbeta)'][24]\n",
    "i7135_O = df2['I/I(Hbeta)'][25]\n",
    "i7319b_O = df2['I/I(Hbeta)'][26]\n",
    "i7330b_O = df2['I/I(Hbeta)'][27]\n",
    "i7325b_O=df2['I/I(Hbeta)'][28]\n",
    "\n"
   ]
  },
  {
   "cell_type": "code",
   "execution_count": 4,
   "id": "b3e44c4d",
   "metadata": {},
   "outputs": [
    {
     "data": {
      "text/plain": [
       "(array([  1.,  10.,  52.,  82., 134., 119.,  70.,  20.,   9.,   3.]),\n",
       " array([337.76976704, 342.61479814, 347.45982923, 352.30486033,\n",
       "        357.14989142, 361.99492252, 366.83995361, 371.68498471,\n",
       "        376.5300158 , 381.3750469 , 386.22007799]),\n",
       " <BarContainer object of 10 artists>)"
      ]
     },
     "execution_count": 4,
     "metadata": {},
     "output_type": "execute_result"
    },
    {
     "data": {
      "image/png": "[encoded data removed]",
      "text/plain": [
       "<Figure size 640x480 with 1 Axes>"
      ]
     },
     "metadata": {},
     "output_type": "display_data"
    }
   ],
   "source": [
    "#montecarlo\n",
    "N=500\n",
    "Gi3726_HH = np.random.normal(df1['I/I(Hbeta)'][0], df1['sigma'][0], N)\n",
    "Gi3729_HH = np.random.normal(df1['I/I(Hbeta)'][1], df1['sigma'][1], N)\n",
    "Gi3727b_HH = np.random.normal(df1['I/I(Hbeta)'][2], df1['sigma'][2], N)\n",
    "Gi3868_HH = np.random.normal(df1['I/I(Hbeta)'][3], df1['sigma'][3], N)\n",
    "Gi3967_HH = np.random.normal(df1['I/I(Hbeta)'][4], df1['sigma'][4], N)\n",
    "Gi4026_HH = np.random.normal(df1['I/I(Hbeta)'][5], df1['sigma'][5], N)\n",
    "Gi4363_HH = np.random.normal(df1['I/I(Hbeta)'][6], df1['sigma'][6], N)\n",
    "Gi4388_HH = np.random.normal(df1['I/I(Hbeta)'][7], df1['sigma'][7], N)\n",
    "Gi4471_HH = np.random.normal(df1['I/I(Hbeta)'][8], df1['sigma'][8], N)\n",
    "Gi4686_HH= np.random.normal(df1['I/I(Hbeta)'][9], df1['sigma'][9], N)\n",
    "Gi4711_HH = np.random.normal(df1['I/I(Hbeta)'][10], df1['sigma'][10], N)\n",
    "Gi4740_HH = np.random.normal(df1['I/I(Hbeta)'][11], df1['sigma'][11], N)\n",
    "Gi4922_HH = np.random.normal(df1['I/I(Hbeta)'][12], df1['sigma'][12], N)\n",
    "Gi4959_HH = np.random.normal(df1['I/I(Hbeta)'][13], df1['sigma'][13], N)\n",
    "Gi5007_HH = np.random.normal(df1['I/I(Hbeta)'][14], df1['sigma'][14], N)\n",
    "Gi5518_HH = np.random.normal(df1['I/I(Hbeta)'][15], df1['sigma'][15], N)\n",
    "Gi5538_HH= np.random.normal(df1['I/I(Hbeta)'][16], df1['sigma'][16], N)\n",
    "Gi5755_HH = np.random.normal(df1['I/I(Hbeta)'][17], df1['sigma'][17], N)\n",
    "Gi5876_HH = np.random.normal(df1['I/I(Hbeta)'][18], df1['sigma'][18], N)\n",
    "Gi6312_HH = np.random.normal(df1['I/I(Hbeta)'][19], df1['sigma'][19], N)\n",
    "Gi6548_HH = np.random.normal(df1['I/I(Hbeta)'][20], df1['sigma'][20], N)\n",
    "Gi6584_HH = np.random.normal(df1['I/I(Hbeta)'][21], df1['sigma'][21], N)\n",
    "Gi6678_HH = np.random.normal(df1['I/I(Hbeta)'][22], df1['sigma'][22], N)\n",
    "Gi6716_HH = np.random.normal(df1['I/I(Hbeta)'][23], df1['sigma'][23], N)\n",
    "Gi6731_HH = np.random.normal(df1['I/I(Hbeta)'][24], df1['sigma'][24], N)\n",
    "Gi7135_HH = np.random.normal(df1['I/I(Hbeta)'][25], df1['sigma'][25], N)\n",
    "Gi7319b_HH = np.random.normal(df1['I/I(Hbeta)'][26], df1['sigma'][26], N)\n",
    "Gi7330b_HH = np.random.normal(df1['I/I(Hbeta)'][27], df1['sigma'][27], N)\n",
    "Gi7325b_HH=np.random.normal(df1['I/I(Hbeta)'][28], df1['sigma'][28], N)\n",
    "\n",
    "\n",
    "Gi3726_O = np.random.normal(df2['I/I(Hbeta)'][0], df2['sigma'][0], N)\n",
    "Gi3729_O = np.random.normal(df2['I/I(Hbeta)'][1], df2['sigma'][1], N)\n",
    "Gi3727b_O = np.random.normal(df2['I/I(Hbeta)'][2], df2['sigma'][2], N)\n",
    "Gi3868_O = np.random.normal(df2['I/I(Hbeta)'][3], df2['sigma'][3], N)\n",
    "Gi3967_O = np.random.normal(df2['I/I(Hbeta)'][4], df2['sigma'][4], N)\n",
    "Gi4026_O = np.random.normal(df2['I/I(Hbeta)'][5], df2['sigma'][5], N)\n",
    "Gi4363_O = np.random.normal(df2['I/I(Hbeta)'][6], df2['sigma'][6], N)\n",
    "Gi4388_O = np.random.normal(df2['I/I(Hbeta)'][7], df2['sigma'][7], N)\n",
    "Gi4471_O = np.random.normal(df2['I/I(Hbeta)'][8], df2['sigma'][8], N)\n",
    "Gi4686_O= np.random.normal(df2['I/I(Hbeta)'][9], df2['sigma'][9], N)\n",
    "Gi4711_O = np.random.normal(df2['I/I(Hbeta)'][10], df2['sigma'][10], N)\n",
    "Gi4740_O = np.random.normal(df2['I/I(Hbeta)'][11], df2['sigma'][11], N)\n",
    "Gi4922_O = np.random.normal(df2['I/I(Hbeta)'][12], df2['sigma'][12], N)\n",
    "Gi4959_O = np.random.normal(df2['I/I(Hbeta)'][13], df2['sigma'][13], N)\n",
    "Gi5007_O = np.random.normal(df2['I/I(Hbeta)'][14], df2['sigma'][14], N)\n",
    "Gi5518_O = np.random.normal(df2['I/I(Hbeta)'][15], df2['sigma'][15], N)\n",
    "Gi5538_O= np.random.normal(df2['I/I(Hbeta)'][16], df2['sigma'][16], N)\n",
    "Gi5755_O = np.random.normal(df2['I/I(Hbeta)'][17], df2['sigma'][17], N)\n",
    "Gi5876_O = np.random.normal(df2['I/I(Hbeta)'][18], df2['sigma'][18], N)\n",
    "Gi6312_O = np.random.normal(df2['I/I(Hbeta)'][19], df2['sigma'][19], N)\n",
    "Gi6548_O = np.random.normal(df2['I/I(Hbeta)'][20], df2['sigma'][20], N)\n",
    "Gi6584_O = np.random.normal(df2['I/I(Hbeta)'][21], df2['sigma'][21], N)\n",
    "Gi6678_O = np.random.normal(df2['I/I(Hbeta)'][22], df2['sigma'][22], N)\n",
    "Gi6716_O = np.random.normal(df2['I/I(Hbeta)'][23], df2['sigma'][23], N)\n",
    "Gi6731_O = np.random.normal(df2['I/I(Hbeta)'][24], df1['sigma'][24], N)\n",
    "Gi7135_O = np.random.normal(df2['I/I(Hbeta)'][25], df2['sigma'][25], N)\n",
    "Gi7319b_O = np.random.normal(df2['I/I(Hbeta)'][26], df2['sigma'][26], N)\n",
    "Gi7330b_O = np.random.normal(df2['I/I(Hbeta)'][27], df2['sigma'][27], N)\n",
    "Gi7325b_O=np.random.normal(df2['I/I(Hbeta)'][28], df2['sigma'][28], N)\n",
    "\n",
    "\n",
    "\n",
    "plt.hist(Gi5007_O, 10)"
   ]
  },
  {
   "cell_type": "code",
   "execution_count": 8,
   "id": "35dbdae9",
   "metadata": {},
   "outputs": [],
   "source": [
    "#Calculo ne, Te y O++/O+\n",
    "\n",
    "GtemN_HH=[]\n",
    "GtemO_HH=[]\n",
    "Gne_s2_HH=[]\n",
    "Glne_s2_HH=[]\n",
    "Gne_o2_HH=[]\n",
    "Glne_o2_HH=[]\n",
    "Gne_cl3_HH=[]\n",
    "Glne_cl3_HH=[]\n",
    "Gne_ar4_HH=[]\n",
    "Glne_ar4_HH=[]\n",
    "Gden_HH=[]\n",
    "#temN=[10000.0]*N\n",
    "#temO=[10000.0]*N\n",
    "\n",
    "for j in range(N):\n",
    "    temN=10000.0\n",
    "    temO=10000.0\n",
    "    \n",
    "    for i in range(4):\n",
    "        if Gi6716_HH[j] !=0.0 and Gi6731_HH[j] !=0.0:\n",
    "            ne_s2_HH = S2.getTemDen(Gi6716_HH[j]/Gi6731_HH[j], tem=temN, to_eval = 'L(6716)/L(6731)')\n",
    "        else:\n",
    "            ne_s2_HH = -1\n",
    "        if Gi3726_HH[j] !=0.0 and Gi3729_HH[j] !=0.0:\n",
    "            ne_o2_HH = O2.getTemDen(Gi3726_HH[j]/Gi3729_HH[j], tem=temN, to_eval = 'L(3726)/L(3729)')\n",
    "        else:\n",
    "            ne_o2_HH = -1\n",
    "        if Gi5518_HH[j] !=0.0 and Gi5538_HH[j] !=0.0:\n",
    "            ne_cl3_HH = Cl3.getTemDen(Gi5518_HH[j]/Gi5538_HH[j], tem=temN, to_eval = 'L(5518)/L(5538)')\n",
    "        else:\n",
    "            ne_cl3_HH = -1\n",
    "\t\t\t\n",
    "        if Gi4711_HH[j] !=0.0 and Gi4740_HH[j] !=0.0:\n",
    "            ne_ar4_HH = Ar4.getTemDen(Gi4711_HH[j]/Gi4740_HH[j], tem=temO, to_eval = 'L(4711)/L(4740)')\n",
    "        else:\n",
    "            ne_ar4_HH = -1\n",
    "        ane_HH = np.array([ne_s2_HH, ne_o2_HH, ne_cl3_HH, ne_ar4_HH])\n",
    "        lne_HH = np.log10(ane_HH)\n",
    "        mne_HH = np.nanmedian(lne_HH)\n",
    "        den_HH = 10**mne_HH\n",
    "\t\t\t\t\t\t\t\t\t\t\t\t\t\n",
    "        if Gi5755_HH[j] !=0.0:\n",
    "            if Gi6548_HH[j] !=0.0 and Gi6584_HH[j] !=0.0:\n",
    "                temN_HH = N2.getTemDen(Gi5755_HH[j]/(Gi6548_HH[j]+Gi6584_HH[j]), den=den_HH, to_eval = 'L(5755)/(L(6548)+L(6584))')\n",
    "            if Gi6548_HH[j] !=0.0 and Gi6584_HH[j] ==0.0:\n",
    "                temN_HH = N2.getTemDen(Gi5755_HH[j]/i6548_HH[j], den=den_HH, to_eval = 'L(5755)/L(6548)')\n",
    "            if Gi6548_HH[j] ==0.0 and Gi6584_HH[j] !=0.0:\n",
    "                temN_HH = N2.getTemDen(Gi5755_HH[j]/Gi6584_HH[j], den=den_HH, to_eval = 'L(5755)/L(6584)')\n",
    "        \n",
    "        if Gi4363_HH[j] !=0.0:\n",
    "            if Gi5007_HH[j] !=0.0 and Gi4959_HH[j] !=0.0:\n",
    "                temO_HH = O3.getTemDen(Gi4363_HH[j]/(Gi5007_HH[j]+Gi4959_HH[j]), den=den_HH, to_eval = 'L(4363)/(L(4959)+L(5007))') \n",
    "            if Gi5007_HH[j] !=0.0 and Gi4959_HH[j] ==0.0:\n",
    "                temO_HH = O3.getTemDen(Gi4363_HH[j]/Gi5007_HH[j], den=den_HH, to_eval = 'L(4363)/L(5007)') \n",
    "            if Gi5007_HH[j] ==0.0 and Gi4959[j] !=0.0:\n",
    "                temO_HH= O3.getTemDen(Gi4363_HH[j]/Gi4959_HH[j], den=den_HH, to_eval = 'L(4363)/L(4959)') \n",
    "                \n",
    "    GtemN_HH.append(temN_HH)\n",
    "    GtemO_HH.append(temO_HH)\n",
    "    #Gne_s2_HH.append(ne_s2_HH)\n",
    "    #Glne_s2_HH.append(lne_s2)\n",
    "    #Gne_o2_HH.append(ne_o2_HH)\n",
    "    #Glne_o2_HH.append(lne_o2)\n",
    "    #Gne_cl3_HH.append(ne_cl3_HH)\n",
    "    #Glne_cl3_HH.append(lne_cl3)\n",
    "    #Gne_ar4_HH.append(ne_ar4_HH)\n",
    "    #Glne_ar4_HH.append(lne_ar4)\n",
    "    Gden_HH.append(den_HH)\n",
    "    \n",
    "    \n",
    "#Calculo ne, Te y O++/O+ para Orión \n",
    "\n",
    "GtemN_O=[]\n",
    "GtemO_O=[]\n",
    "Gne_s2_O=[]\n",
    "#Glne_s2_HH=[]\n",
    "Gne_o2_O=[]\n",
    "#Glne_o2_HH=[]\n",
    "Gne_cl3_O=[]\n",
    "#Glne_cl3_HH=[]\n",
    "Gne_ar4_O=[]\n",
    "#Glne_ar4_HH=[]\n",
    "Gden_O=[]\n",
    "#temN=[10000.0]*N\n",
    "#temO=[10000.0]*N\n",
    "\n",
    "for j in range(N):\n",
    "    temN_O=10000.0\n",
    "    temO_O=10000.0\n",
    "    \n",
    "    for i in range(4):\n",
    "        if Gi6716_O[j] !=0.0 and Gi6731_O[j] !=0.0:\n",
    "            ne_s2_O = S2.getTemDen(Gi6716_O[j]/Gi6731_O[j], tem=temN_O, to_eval = 'L(6716)/L(6731)')\n",
    "        else:\n",
    "            ne_s2 = -1\n",
    "        if Gi3726_O[j] !=0.0 and Gi3729_O[j] !=0.0:\n",
    "            ne_o2_O = O2.getTemDen(Gi3726_O[j]/Gi3729_O[j], tem=temN_O, to_eval = 'L(3726)/L(3729)')\n",
    "        else:\n",
    "            ne_o2_O = -1\n",
    "        if Gi5518_O[j] !=0.0 and Gi5538_O[j] !=0.0:\n",
    "            ne_cl3_O = Cl3.getTemDen(Gi5518_O[j]/Gi5538_O[j], tem=temN_O, to_eval = 'L(5518)/L(5538)')\n",
    "        else:\n",
    "            ne_cl3_O = -1\n",
    "\t\t\t\n",
    "        if Gi4711_O[j] !=0.0 and Gi4740_O[j] !=0.0:\n",
    "            ne_ar4_O = Ar4.getTemDen(Gi4711_O[j]/Gi4740_O[j], tem=temO_O, to_eval = 'L(4711)/L(4740)')\n",
    "        else:\n",
    "            ne_ar4_O = -1\n",
    "        ane_O = np.array([ne_s2_O, ne_o2_O, ne_cl3_O, ne_ar4_O])\n",
    "        lne_O = np.log10(ane_O)\n",
    "        mne_O = np.nanmedian(lne_O)\n",
    "        den_O = 10**mne_O\n",
    "\t\t\t\t\t\t\t\t\t\t\t\t\t\n",
    "        if Gi5755_O[j] !=0.0:\n",
    "            if Gi6548_O[j] !=0.0 and Gi6584_O[j] !=0.0:\n",
    "                temN_O = N2.getTemDen(Gi5755_O[j]/(Gi6548_O[j]+Gi6584_O[j]), den=den_O, to_eval = 'L(5755)/(L(6548)+L(6584))')\n",
    "            if Gi6548_O[j] !=0.0 and Gi6584_O[j] ==0.0:\n",
    "                temN_O = N2.getTemDen(Gi5755_O[j]/i6548_O[j], den=den_O, to_eval = 'L(5755)/L(6548)')\n",
    "            if Gi6548_O[j] ==0.0 and Gi6584_O[j] !=0.0:\n",
    "                temN_O = N2.getTemDen(Gi5755_O[j]/Gi6584_O[j], den=den_O, to_eval = 'L(5755)/L(6584)')\n",
    "        \n",
    "        if Gi4363_O[j] !=0.0:\n",
    "            if Gi5007_O[j] !=0.0 and Gi4959_O[j] !=0.0:\n",
    "                temO_O = O3.getTemDen(Gi4363_O[j]/(Gi5007_O[j]+Gi4959_O[j]), den=den_O, to_eval = 'L(4363)/(L(4959)+L(5007))') \n",
    "            if Gi5007_O[j] !=0.0 and Gi4959_O[j] ==0.0:\n",
    "                temO_O = O3.getTemDen(Gi4363_O[j]/Gi5007_O[j], den=den_O, to_eval = 'L(4363)/L(5007)') \n",
    "            if Gi5007_O[j] ==0.0 and Gi4959_O[j] !=0.0:\n",
    "                temO_O= O3.getTemDen(Gi4363_O[j]/Gi4959_O[j], den=den_O, to_eval = 'L(4363)/L(4959)') \n",
    "                \n",
    "    GtemN_O.append(temN_O)\n",
    "    GtemO_O.append(temO_O)\n",
    "    Gne_s2_O.append(ne_s2_O)\n",
    "    #Glne_s2_HH.append(lne_s2)\n",
    "    Gne_o2_O.append(ne_o2_O)\n",
    "    #Glne_o2_HH.append(lne_o2)\n",
    "    Gne_cl3_O.append(ne_cl3_O)\n",
    "    #Glne_cl3_HH.append(lne_cl3)\n",
    "    Gne_ar4_O.append(ne_ar4_O)\n",
    "    #Glne_ar4_HH.append(lne_ar4)\n",
    "    Gden_O.append(den_O)"
   ]
  },
  {
   "cell_type": "code",
   "execution_count": 9,
   "id": "1e37f898",
   "metadata": {},
   "outputs": [
    {
     "data": {
      "text/plain": [
       "(array([ 25., 105., 125., 118.,  67.,  35.,  15.,   4.,   5.,   1.]),\n",
       " array([2588.29673036, 3230.8258504 , 3873.35497043, 4515.88409046,\n",
       "        5158.41321049, 5800.94233052, 6443.47145055, 7086.00057058,\n",
       "        7728.52969061, 8371.05881064, 9013.58793067]),\n",
       " <BarContainer object of 10 artists>)"
      ]
     },
     "execution_count": 9,
     "metadata": {},
     "output_type": "execute_result"
    },
    {
     "data": {
      "image/png": "[encoded data removed]",
      "text/plain": [
       "<Figure size 640x480 with 1 Axes>"
      ]
     },
     "metadata": {},
     "output_type": "display_data"
    }
   ],
   "source": [
    "plt.hist(Gne_s2_O,10)"
   ]
  },
  {
   "cell_type": "code",
   "execution_count": 10,
   "id": "1c3f9ffe",
   "metadata": {},
   "outputs": [
    {
     "data": {
      "text/plain": [
       "(array([0., 0., 0., 0., 0., 0., 0., 0., 0., 0., 0., 0., 0., 0., 0., 0., 0.,\n",
       "        0., 0., 0., 0., 0., 0., 0., 0., 0., 0., 0., 0., 0., 0., 0., 0., 0.,\n",
       "        0., 0., 0., 0., 0., 0., 0., 0., 0., 0., 0., 0., 0., 0., 0., 0.]),\n",
       " array([0.  , 0.02, 0.04, 0.06, 0.08, 0.1 , 0.12, 0.14, 0.16, 0.18, 0.2 ,\n",
       "        0.22, 0.24, 0.26, 0.28, 0.3 , 0.32, 0.34, 0.36, 0.38, 0.4 , 0.42,\n",
       "        0.44, 0.46, 0.48, 0.5 , 0.52, 0.54, 0.56, 0.58, 0.6 , 0.62, 0.64,\n",
       "        0.66, 0.68, 0.7 , 0.72, 0.74, 0.76, 0.78, 0.8 , 0.82, 0.84, 0.86,\n",
       "        0.88, 0.9 , 0.92, 0.94, 0.96, 0.98, 1.  ]),\n",
       " <BarContainer object of 50 artists>)"
      ]
     },
     "execution_count": 10,
     "metadata": {},
     "output_type": "execute_result"
    },
    {
     "data": {
      "image/png": "[encoded data removed]",
      "text/plain": [
       "<Figure size 640x480 with 1 Axes>"
      ]
     },
     "metadata": {},
     "output_type": "display_data"
    }
   ],
   "source": [
    "plt.hist(Gne_s2_HH, 50)"
   ]
  },
  {
   "cell_type": "code",
   "execution_count": 13,
   "id": "545fcfef",
   "metadata": {},
   "outputs": [],
   "source": [
    "#Ab ionicas de O++, O+, N+ para HH\n",
    "\n",
    "GabO3_HH=[]\n",
    "GlabO3_HH=[]\n",
    "GabO2_HH=[]\n",
    "GlabO2_HH=[]\n",
    "GabN2_HH=[]\n",
    "GlabN2_HH=[]\n",
    "\n",
    "for j in range(N):\n",
    "    if Gi4959_HH[j] !=0.0 and Gi5007_HH[j] !=0.0:\n",
    "        abO3_HH = O3.getIonAbundance(int_ratio=(Gi4959_HH[j]+Gi5007_HH[j]), tem=GtemO_HH[j], den=Gden_HH[j], to_eval='L(4959)+L(5007)')\n",
    "    if Gi4959_HH[j] !=0.0 and Gi5007_HH[j] ==0.0:\n",
    "        abO3_HH = O3.getIonAbundance(int_ratio=(Gi4959_HH[j]), tem=temO_HH[j], den=den_HH[j], to_eval='L(4959)')\n",
    "    if Gi4959_HH[j] ==0.0 and Gi5007_HH[j] !=0.0:\n",
    "        abO3_HH = O3.getIonAbundance(int_ratio=(Gi5007_HH[j]), tem=temO_HH[j], den=den_HH[j], to_eval='L(5007)')\n",
    "    labO3_HH = 12.0 + np.log10(abO3_HH)\n",
    "    \n",
    "    if Gi3726_HH[j] !=0.0:\n",
    "        abO2_HH = O2.getIonAbundance(int_ratio=(Gi3726_HH[j]+Gi3729_HH[j]), tem=GtemN_HH[j], den=Gden_HH[j], to_eval='L(3726)+L(3729)')\n",
    "    else:\n",
    "        abO2_HH = O2.getIonAbundance(int_ratio=(Gi3727b_HH[j]), tem=GtemN_HH[j], den=Gden_HH[j], to_eval='L(3726)+L(3729)')\n",
    "    labO2_HH = 12.0 + np.log10(abO2_HH)\n",
    "    \n",
    "    if Gi6548_HH[j] !=0.0 and Gi6584_HH[j] !=0.0:\n",
    "        abN2_HH = N2.getIonAbundance(int_ratio=(Gi6548_HH[j]+Gi6584_HH[j]), tem=GtemN_HH[j], den=Gden_HH[j], to_eval='L(6548)+L(6584)')\n",
    "    if Gi6548_HH[j] !=0.0 and Gi6584_HH[j] ==0.0:\n",
    "        abN2_HH = N2.getIonAbundance(int_ratio=(Gi6548_HH[j]), tem=GtemN_HH[j], den=Gden_HH[j], to_eval='L(6548)')\n",
    "    if Gi6548_HH[j] ==0.0 and Gi6584_HH[j] !=0.0:\n",
    "        abN2_HH = N2.getIonAbundance(int_ratio=(Gi6584_HH[j]), tem=GtemN_HH[j], den=Gden_HH[j], to_eval='L(6584)')\n",
    "    labN2_HH = 12.0 + np.log10(abN2_HH)\n",
    "    \n",
    "    GabO3_HH.append(abO3_HH)\n",
    "    GlabO3_HH.append(labO3_HH)\n",
    "    GabO2_HH.append(abO2_HH)\n",
    "    GlabO2_HH.append(labO2_HH)\n",
    "    GabN2_HH.append(abN2_HH)\n",
    "    GlabN2_HH.append(labN2_HH)\n",
    "      "
   ]
  },
  {
   "cell_type": "code",
   "execution_count": 14,
   "id": "7d7f41d3",
   "metadata": {},
   "outputs": [],
   "source": [
    "#Ab ionicas de O++, O+, N+ para Orion\n",
    "\n",
    "GabO3_O=[]\n",
    "GlabO3_O=[]\n",
    "GabO2_O=[]\n",
    "GlabO2_O=[]\n",
    "GabN2_O=[]\n",
    "GlabN2_O=[]\n",
    "\n",
    "for j in range(N):\n",
    "    if Gi4959_O[j] !=0.0 and Gi5007_O[j] !=0.0:\n",
    "        abO3_O= O3.getIonAbundance(int_ratio=(Gi4959_O[j]+Gi5007_O[j]), tem=GtemO_O[j], den=Gden_O[j], to_eval='L(4959)+L(5007)')\n",
    "    if Gi4959_O[j] !=0.0 and Gi5007_O[j] ==0.0:\n",
    "        abO3_O = O3.getIonAbundance(int_ratio=(Gi4959_O[j]), tem=temO_O[j], den=den_O[j], to_eval='L(4959)')\n",
    "    if Gi4959_O[j] ==0.0 and Gi5007_O[j] !=0.0:\n",
    "        abO3_O = O3.getIonAbundance(int_ratio=(Gi5007_O[j]), tem=temO_O[j], den=den_O[j], to_eval='L(5007)')\n",
    "    labO3_O = 12.0 + np.log10(abO3_O)\n",
    "    \n",
    "    if Gi3726_O[j] !=0.0:\n",
    "        abO2_O = O2.getIonAbundance(int_ratio=(Gi3726_O[j]+Gi3729_O[j]), tem=GtemN_O[j], den=Gden_O[j], to_eval='L(3726)+L(3729)')\n",
    "    else:\n",
    "        abO2_O = O2.getIonAbundance(int_ratio=(Gi3727b_O[j]), tem=GtemN_O[j], den=Gden_O[j], to_eval='L(3726)+L(3729)')\n",
    "    labO2_O = 12.0 + np.log10(abO2_O)\n",
    "    \n",
    "    if Gi6548_O[j] !=0.0 and Gi6584_O[j] !=0.0:\n",
    "        abN2_O = N2.getIonAbundance(int_ratio=(Gi6548_O[j]+Gi6584_O[j]), tem=GtemN_O[j], den=Gden_O[j], to_eval='L(6548)+L(6584)')\n",
    "    if Gi6548_O[j] !=0.0 and Gi6584_O[j] ==0.0:\n",
    "        abN2_O = N2.getIonAbundance(int_ratio=(Gi6548_O[j]), tem=GtemN_O[j], den=Gden_O[j], to_eval='L(6548)')\n",
    "    if Gi6548_O[j] ==0.0 and Gi6584_O[j] !=0.0:\n",
    "        abN2_O = N2.getIonAbundance(int_ratio=(Gi6584_O[j]), tem=GtemN_O[j], den=Gden_O[j], to_eval='L(6584)')\n",
    "    labN2_O = 12.0 + np.log10(abN2_O)\n",
    "    \n",
    "    GabO3_O.append(abO3_O)\n",
    "    GlabO3_O.append(labO3_O)\n",
    "    GabO2_O.append(abO2_O)\n",
    "    GlabO2_O.append(labO2_O)\n",
    "    GabN2_O.append(abN2_O)\n",
    "    GlabN2_O.append(labN2_O)\n",
    "    "
   ]
  },
  {
   "cell_type": "code",
   "execution_count": 15,
   "id": "508d31f3",
   "metadata": {},
   "outputs": [
    {
     "data": {
      "text/plain": [
       "(array([  5.,  38., 145., 175.,  89.,  32.,  12.,   1.,   1.,   2.]),\n",
       " array([8.38885279, 8.40827525, 8.42769771, 8.44712017, 8.46654263,\n",
       "        8.48596509, 8.50538755, 8.52481001, 8.54423247, 8.56365493,\n",
       "        8.58307739]),\n",
       " <BarContainer object of 10 artists>)"
      ]
     },
     "execution_count": 15,
     "metadata": {},
     "output_type": "execute_result"
    },
    {
     "data": {
      "image/png": "[encoded data removed]",
      "text/plain": [
       "<Figure size 640x480 with 1 Axes>"
      ]
     },
     "metadata": {},
     "output_type": "display_data"
    }
   ],
   "source": [
    "plt.hist(GlabO3_HH,10)"
   ]
  },
  {
   "cell_type": "code",
   "execution_count": 16,
   "id": "f1f7a22c",
   "metadata": {},
   "outputs": [],
   "source": [
    "#Resto de abundancias ionicas\n",
    "\n",
    "GabCl3_HH=[]\n",
    "GlabCl3_HH=[]\n",
    "GabAr3_HH=[]\n",
    "GlabAr3_HH=[]\n",
    "GabNe3_HH=[]\n",
    "GlabNe3_HH=[]\n",
    "GabS2_HH=[]\n",
    "GlabS2_HH=[]\n",
    "GabS3_HH=[]\n",
    "GlabS3_HH=[]\n",
    "\n",
    "\n",
    "\n",
    "for j in range(N):\n",
    "    if Gi5518_HH[j] !=0.0 and Gi5538_HH[j] !=0.0:\n",
    "        abCl3_HH = Cl3.getIonAbundance((Gi5518_HH[j]+Gi5538_HH[j]), tem=GtemN_HH[j], den=Gden_HH[j], to_eval='L(5518)+L(5538)')\n",
    "    if Gi5518_HH[j] !=0.0 and Gi5538_HH[j] ==0.0:\n",
    "        abCl3_HH =Cl3.getIonAbundance(Gi5518_HH[j], tem=GtemN_HH[j], den=Gden_HH[j], to_eval='L(5518)')\n",
    "    if Gi5518_HH[j] ==0.0 and Gi5538_HH[j] !=0.0:\n",
    "        abCl3_HH = Cl3.getIonAbundance(Gi5538_HH[j], tem=GtemN_HH[j], den=Gden_HH[j], to_eval='L(5538)')\n",
    "    if Gi5518_HH[j] ==0.0 and Gi5538_HH[j] ==0.0:\n",
    "        abCl3_HH = 0.0\n",
    "    if abCl3_HH > 0: labCl3_HH = 12.0+np.log10(abCl3_HH)\n",
    "    if abCl3_HH == 0: labCl3_HH = 0\n",
    "\n",
    "\n",
    "    if Gi7135_HH[j] !=0.0:\n",
    "        abAr3_HH = Ar3.getIonAbundance(Gi7135_HH[j], tem=GtemO_HH[j], den=Gden_HH[j], to_eval='L(7135)')\n",
    "    else:\n",
    "        abAr3_HH = 0.0\n",
    "    if abAr3_HH > 0: labAr3_HH = 12.0 + np.log10(abAr3_HH)\n",
    "    if abAr3_HH == 0: labAr3_HH = 0\n",
    "\n",
    "    if Gi3868_HH[j] !=0.0 and Gi3967_HH[j] !=0.0:\n",
    "        abNe3_HH = Ne3.getIonAbundance((Gi3868_HH[j]+Gi3967_HH[j]), tem=GtemO_HH[j], den=Gden_HH[j], to_eval='L(3869)+L(3968)')\n",
    "    if Gi3868_HH[j] !=0.0 and Gi3967_HH[j] ==0.0:\n",
    "        abNe3_HH = Ne3.getIonAbundance(Gi3868_HH[j], tem=GtemO_HH[j], den=Gden_HH[j], to_eval='L(3869)')\n",
    "    if Gi3868_HH[j] ==0.0 and Gi3967_HH[j] ==0.0:\n",
    "        abNe3_HH = 0.0\n",
    "    if abNe3_HH > 0: labNe3_HH = 12.0 + np.log10(abNe3_HH)\n",
    "    if abNe3_HH == 0: labNe3_HH = 0\n",
    "\n",
    "\n",
    "    if Gi6716_HH[j] !=0.0 and Gi6731_HH[j] !=0.0:\n",
    "        abS2_HH = S2.getIonAbundance((Gi6716_HH[j]+Gi6731_HH[j]), tem=GtemN_HH[j], den=Gden_HH[j], to_eval='L(6717)+L(6731)')\n",
    "    if Gi6716_HH[j] !=0.0 and Gi6731_HH[j] ==0.0:\n",
    "        abS2_HH = S2.getIonAbundance(Gi6716_HH[j], tem=GtemN_HH[j], den=Gden_HH[j], to_eval='L(6717)')\n",
    "    if Gi6716_HH[j] ==0.0 and Gi6731_HH[j] !=0.0:\n",
    "        abS2_HH = S2.getIonAbundance(Gi6731_HH[j], tem=GtemN_HH[j], den=Gden_HH[j], to_eval='L(6731)')\n",
    "    if abS2_HH > 0: labS2_HH = 12.0+np.log10(abS2_HH)\n",
    "    if abS2_HH == 0: labS2_HH = 0\n",
    "\n",
    "    if Gi6312_HH[j] !=0.0:\n",
    "        abS3_HH = S3.getIonAbundance(Gi6312_HH[j], tem=GtemO_HH[j], den=Gden_HH[j], to_eval='L(6312)')\n",
    "    else:\n",
    "        abS3_HH = 0.0\n",
    "    if abS3_HH > 0: labS3_HH = 12.0 + np.log10(abS3_HH)\n",
    "    if abS3_HH == 0: labS3_HH = 0\n",
    "    \n",
    "    \n",
    "    GabCl3_HH.append(abCl3_HH)\n",
    "    GlabCl3_HH.append(labCl3_HH)\n",
    "    GabAr3_HH.append(abAr3_HH)\n",
    "    GlabAr3_HH.append(labAr3_HH)\n",
    "    GabNe3_HH.append(abNe3_HH)\n",
    "    GlabNe3_HH.append(labNe3_HH)\n",
    "    GabS2_HH.append(abS2_HH)\n",
    "    GlabS2_HH.append(labS2_HH)\n",
    "    GabS3_HH.append(abS3_HH)\n",
    "    GlabS3_HH.append(labS3_HH)"
   ]
  },
  {
   "cell_type": "code",
   "execution_count": 17,
   "id": "2ebf4b77",
   "metadata": {},
   "outputs": [],
   "source": [
    "#Resto de abundancias ionicas PARA orion\n",
    "\n",
    "GabCl3_O=[]\n",
    "GlabCl3_O=[]\n",
    "GabAr3_O=[]\n",
    "GlabAr3_O=[]\n",
    "GabNe3_O=[]\n",
    "GlabNe3_O=[]\n",
    "GabS2_O=[]\n",
    "GlabS2_O=[]\n",
    "GabS3_O=[]\n",
    "GlabS3_O=[]\n",
    "\n",
    "\n",
    "\n",
    "for j in range(N):\n",
    "    if Gi5518_O[j] !=0.0 and Gi5538_O[j] !=0.0:\n",
    "        abCl3_O = Cl3.getIonAbundance((Gi5518_O[j]+Gi5538_O[j]), tem=GtemN_O[j], den=Gden_O[j], to_eval='L(5518)+L(5538)')\n",
    "    if Gi5518_O[j] !=0.0 and Gi5538_O[j] ==0.0:\n",
    "        abCl3_O =Cl3.getIonAbundance(Gi5518_O[j], tem=GtemN_O[j], den=Gden_O[j], to_eval='L(5518)')\n",
    "    if Gi5518_O[j] ==0.0 and Gi5538_O[j] !=0.0:\n",
    "        abCl3_O = Cl3.getIonAbundance(Gi5538_O[j], tem=GtemN_O[j], den=Gden_O[j], to_eval='L(5538)')\n",
    "    if Gi5518_O[j] ==0.0 and Gi5538_O[j] ==0.0:\n",
    "        abCl3_O = 0.0\n",
    "    if abCl3_O > 0: labCl3_O = 12.0+np.log10(abCl3_O)\n",
    "    if abCl3_O == 0: labCl3_O = 0\n",
    "\n",
    "\n",
    "    if Gi7135_O[j] !=0.0:\n",
    "        abAr3_O = Ar3.getIonAbundance(Gi7135_O[j], tem=GtemO_O[j], den=Gden_O[j], to_eval='L(7135)')\n",
    "    else:\n",
    "        abAr3_O = 0.0\n",
    "    if abAr3_O > 0: labAr3_O = 12.0 + np.log10(abAr3_O)\n",
    "    if abAr3_O == 0: labAr3_O = 0\n",
    "\n",
    "    if Gi3868_O[j] !=0.0 and Gi3967_O[j] !=0.0:\n",
    "        abNe3_O = Ne3.getIonAbundance((Gi3868_O[j]+Gi3967_O[j]), tem=GtemO_O[j], den=Gden_O[j], to_eval='L(3869)+L(3968)')\n",
    "    if Gi3868_O[j] !=0.0 and Gi3967_O[j] ==0.0:\n",
    "        abNe3_O = Ne3.getIonAbundance(Gi3868_O[j], tem=GtemO_O[j], den=Gden_O[j], to_eval='L(3869)')\n",
    "    if Gi3868_O[j] ==0.0 and Gi3967_O[j] ==0.0:\n",
    "        abNe3_O = 0.0\n",
    "    if abNe3_O > 0: labNe3_O = 12.0 + np.log10(abNe3_O)\n",
    "    if abNe3_O == 0: labNe3_O = 0\n",
    "\n",
    "\n",
    "    if Gi6716_O[j] !=0.0 and Gi6731_O[j] !=0.0:\n",
    "        abS2_O = S2.getIonAbundance((Gi6716_O[j]+Gi6731_O[j]), tem=GtemN_O[j], den=Gden_O[j], to_eval='L(6717)+L(6731)')\n",
    "    if Gi6716_O[j] !=0.0 and Gi6731_O[j] ==0.0:\n",
    "        abS2_O = S2.getIonAbundance(Gi6716_O[j], tem=GtemN_O[j], den=Gden_O[j], to_eval='L(6717)')\n",
    "    if Gi6716_O[j] ==0.0 and Gi6731_O[j] !=0.0:\n",
    "        abS2_O = S2.getIonAbundance(Gi6731_O[j], tem=GtemN_O[j], den=Gden_O[j], to_eval='L(6731)')\n",
    "    if abS2_O > 0: labS2_O = 12.0+np.log10(abS2_O)\n",
    "    if abS2_O == 0: labS2_O = 0\n",
    "\n",
    "    if Gi6312_O[j] !=0.0:\n",
    "        abS3_O = S3.getIonAbundance(Gi6312_O[j], tem=GtemO_O[j], den=Gden_O[j], to_eval='L(6312)')\n",
    "    else:\n",
    "        abS3_O = 0.0\n",
    "    if abS3_O > 0: labS3_O = 12.0 + np.log10(abS3_O)\n",
    "    if abS3_O == 0: labS3_O = 0\n",
    "    \n",
    "    \n",
    "    GabCl3_O.append(abCl3_O)\n",
    "    GlabCl3_O.append(labCl3_O)\n",
    "    GabAr3_O.append(abAr3_O)\n",
    "    GlabAr3_O.append(labAr3_O)\n",
    "    GabNe3_O.append(abNe3_O)\n",
    "    GlabNe3_O.append(labNe3_O)\n",
    "    GabS2_O.append(abS2_O)\n",
    "    GlabS2_O.append(labS2_O)\n",
    "    GabS3_O.append(abS3_O)\n",
    "    GlabS3_O.append(labS3_O)"
   ]
  },
  {
   "cell_type": "code",
   "execution_count": 18,
   "id": "6c91e250",
   "metadata": {},
   "outputs": [
    {
     "data": {
      "text/plain": [
       "(array([ 12.,  71., 184., 158.,  52.,  13.,   7.,   1.,   0.,   2.]),\n",
       " array([0.00024482, 0.00025863, 0.00027244, 0.00028624, 0.00030005,\n",
       "        0.00031386, 0.00032767, 0.00034147, 0.00035528, 0.00036909,\n",
       "        0.00038289]),\n",
       " <BarContainer object of 10 artists>)"
      ]
     },
     "execution_count": 18,
     "metadata": {},
     "output_type": "execute_result"
    },
    {
     "data": {
      "image/png": "[encoded data removed]",
      "text/plain": [
       "<Figure size 640x480 with 1 Axes>"
      ]
     },
     "metadata": {},
     "output_type": "display_data"
    }
   ],
   "source": [
    "plt.hist(GabO3_HH,10)"
   ]
  },
  {
   "cell_type": "code",
   "execution_count": 19,
   "id": "7337f5c4",
   "metadata": {},
   "outputs": [],
   "source": [
    "#Abundancias totales X/H PARA HH\n",
    "\n",
    "GabO_HH=[]\n",
    "GlabO_HH=[]\n",
    "GabN_HH=[]\n",
    "GlabN_HH=[]\n",
    "GabAr_HH=[]\n",
    "GlabAr_HH=[]\n",
    "GabNe_HH=[]\n",
    "GlabNe_HH=[]\n",
    "GabS_HH=[]\n",
    "GlabS_HH=[]\n",
    "\n",
    "\n",
    "for j in range(N):\n",
    "    abO_HH = (GabO3_HH[j]+GabO2_HH[j])\n",
    "    labO_HH = 12+np.log10(abO_HH)\n",
    "    # Nitrogeno \n",
    "    abN_HH = (GabN2_HH[j]/GabO2_HH[j])*abO_HH\n",
    "    labN_HH = 12+np.log10(abN_HH)\n",
    "    # Argon \n",
    "    v=GabO2_HH[j]/(GabO2_HH[j]+GabO3_HH[j])\n",
    "    abAr_HH=(0.517*v+0.763+0.042/v)*GabAr3_HH[j]\n",
    "    labAr_HH = 12 + np.log10(abAr_HH)\n",
    "    #Neon \n",
    "    abNe_HH=((GabO2_HH[j]+GabO3_HH[j])/(GabO3_HH[j]))*GabNe3_HH[j]\n",
    "    labNe_HH = 12+np.log10(abNe_HH)\n",
    "    # Azufre \n",
    "    abS_HH=(GabS2_HH[j]+GabS3_HH[j])/((1-(1-GabO2_HH[j])**3)**(1/3))\n",
    "    labS_HH = 12 + np.log10(abS_HH)\n",
    "    \n",
    "    if labN_HH > 0: lNO_HH = labN_HH-labO_HH\n",
    "    if labN_HH == 0: lNO_HH = -10\n",
    "    if labS_HH > 0: lSO_HH = labS_HH-labO_HH\n",
    "    if labS_HH == 0: lSO_HH = -10\n",
    "    if labAr_HH > 0: lArO_HH = labAr_HH-labO_HH\n",
    "    if labAr_HH == 0: lArO_HH = -10\n",
    "\n",
    "    GabO_HH.append(abO_HH)\n",
    "    GlabO_HH.append(labO_HH)\n",
    "    GabN_HH.append(abN_HH)\n",
    "    GlabN_HH.append(labN_HH)\n",
    "    GabAr_HH.append(abAr_HH)\n",
    "    GlabAr_HH.append(labAr_HH)\n",
    "    GabNe_HH.append(abNe_HH)\n",
    "    GlabNe_HH.append(labNe_HH)\n",
    "    GabS_HH.append(abS_HH)\n",
    "    GlabS_HH.append(labS_HH)\n",
    "\n",
    "    \n",
    "\n",
    "\n",
    "\n",
    "\n"
   ]
  },
  {
   "cell_type": "code",
   "execution_count": 20,
   "id": "08a1de6d",
   "metadata": {},
   "outputs": [],
   "source": [
    "#Abundancias totales X/H PARA orion\n",
    "\n",
    "GabO_O=[]\n",
    "GlabO_O=[]\n",
    "GabN_O=[]\n",
    "GlabN_O=[]\n",
    "GabAr_O=[]\n",
    "GlabAr_O=[]\n",
    "GabNe_O=[]\n",
    "GlabNe_O=[]\n",
    "GabS_O=[]\n",
    "GlabS_O=[]\n",
    "\n",
    "\n",
    "for j in range(N):\n",
    "    abO_O = (GabO3_O[j]+GabO2_O[j])\n",
    "    labO_O = 12+np.log10(abO_O)\n",
    "    # Nitrogeno \n",
    "    abN_O = (GabN2_O[j]/GabO2_O[j])*abO_O\n",
    "    labN_O = 12+np.log10(abN_O)\n",
    "    # Argon \n",
    "    v=GabO2_O[j]/(GabO2_O[j]+GabO3_O[j])\n",
    "    abAr_O=(0.517*v+0.763+0.042/v)*GabAr3_O[j]\n",
    "    labAr_O = 12 + np.log10(abAr_O)\n",
    "    #Neon \n",
    "    abNe_O=((GabO2_O[j]+GabO3_O[j])/(GabO3_O[j]))*GabNe3_O[j]\n",
    "    labNe_O = 12+np.log10(abNe_O)\n",
    "    # Azufre \n",
    "    abS_O=(GabS2_O[j]+GabS3_O[j])/((1-(1-GabO2_O[j])**3)**(1/3))\n",
    "    labS_O = 12 + np.log10(abS_O)\n",
    "    \n",
    "    if labN_O > 0: lNO_O = labN_O-labO_O\n",
    "    if labN_O == 0: lNO_O = -10\n",
    "    if labS_O > 0: lSO_O = labS_O-labO_O\n",
    "    if labS_O == 0: lSO_O = -10\n",
    "    if labAr_O > 0: lArO_O = labAr_O-labO_O\n",
    "    if labAr_O == 0: lArO_O = -10\n",
    "\n",
    "    GabO_O.append(abO_O)\n",
    "    GlabO_O.append(labO_O)\n",
    "    GabN_O.append(abN_O)\n",
    "    GlabN_O.append(labN_O)\n",
    "    GabAr_O.append(abAr_O)\n",
    "    GlabAr_O.append(labAr_O)\n",
    "    GabNe_O.append(abNe_O)\n",
    "    GlabNe_O.append(labNe_O)\n",
    "    GabS_O.append(abS_O)\n",
    "    GlabS_O.append(labS_O)\n",
    "\n",
    "    \n",
    "\n",
    "\n",
    "\n",
    "\n"
   ]
  },
  {
   "cell_type": "code",
   "execution_count": 21,
   "id": "34e21a56",
   "metadata": {},
   "outputs": [
    {
     "data": {
      "text/plain": [
       "(array([  3.,   8.,  39.,  69.,  99., 119.,  75.,  53.,  30.,   5.]),\n",
       " array([8.39760403, 8.40768742, 8.4177708 , 8.42785419, 8.43793758,\n",
       "        8.44802097, 8.45810436, 8.46818774, 8.47827113, 8.48835452,\n",
       "        8.49843791]),\n",
       " <BarContainer object of 10 artists>)"
      ]
     },
     "execution_count": 21,
     "metadata": {},
     "output_type": "execute_result"
    },
    {
     "data": {
      "image/png": "[encoded data removed]",
      "text/plain": [
       "<Figure size 640x480 with 1 Axes>"
      ]
     },
     "metadata": {},
     "output_type": "display_data"
    }
   ],
   "source": [
    "plt.hist(GlabO_HH,10)\n",
    "plt.hist(GlabO_O,10)"
   ]
  },
  {
   "cell_type": "code",
   "execution_count": 22,
   "id": "c98ac54c",
   "metadata": {},
   "outputs": [
    {
     "name": "stdout",
     "output_type": "stream",
     "text": [
      "Oxígeno\n"
     ]
    },
    {
     "data": {
      "image/png": "[encoded data removed]",
      "text/plain": [
       "<Figure size 640x480 with 1 Axes>"
      ]
     },
     "metadata": {},
     "output_type": "display_data"
    }
   ],
   "source": [
    "#plt.hist(np.abs(np.array(GlabS_HH)-np.array(GlabS_O)),15)\n",
    "plt.hist(np.array(GlabO_HH)-np.array(GlabO_O),10)\n",
    "print('Oxígeno')\n"
   ]
  },
  {
   "cell_type": "code",
   "execution_count": 24,
   "id": "203b4394",
   "metadata": {},
   "outputs": [],
   "source": [
    "#se definen las medias de los valores\n",
    "\n",
    "mutemN_HH=11992.282235953418\n",
    "mutemO_HH=8720.61207492951\n",
    "muden_HH=17714\n",
    "muabO3_HH=0.0002855386810464501\n",
    "mulabO3_HH=8.455664949104193\n",
    "muabO2_HH= 1.5969492244934554e-05\n",
    "mulabO2_HH=7.203291107827354\n",
    "muabN2_HH=2.056094330211278e-06\n",
    "mulabN2_HH=6.3130430354937\n",
    "muabCl3_HH=4.397555721093508e-08\n",
    "mulabCl3_HH= 4.643211351076656\n",
    "muabAr3_HH= 2.210781840365603e-06\n",
    "mulabAr3_HH= 6.344545888576011\n",
    "muabNe3_HH= 6.0291879263677e-05\n",
    "mulabNe3_HH= 7.780258820788977\n",
    "muabS2_HH= 7.966138292084643e-08\n",
    "mulabS2_HH= 4.901247841486808\n",
    "muabS3_HH= 9.649936295842692e-06\n",
    "mulabS3_HH= 6.984524446353604\n",
    "\n",
    "muabO_HH=0.0003015078222171931\n",
    "mulabO_HH=8.479298583811811\n",
    "\n",
    "muabN_HH= 3.881993091378571e-05\n",
    "mulabN_HH= 7.589054758157229\n",
    "muabAr_HH= 3.5004700913600786e-06\n",
    "mulabAr_HH= 6.544126371314412\n",
    "muabNe_HH= 6.366381765631117e-05\n",
    "mulabNe_HH= 7.803892677912968\n",
    "muabS_HH= 0.00026789314265716365\n",
    "mulabS_HH= 8.427961596981596\n",
    "\n",
    "\n"
   ]
  },
  {
   "cell_type": "code",
   "execution_count": 45,
   "id": "7c2e3808",
   "metadata": {},
   "outputs": [
    {
     "data": {
      "text/plain": [
       "-0.0167760071043892"
      ]
     },
     "execution_count": 45,
     "metadata": {},
     "output_type": "execute_result"
    }
   ],
   "source": [
    "mulabN_HH-mulabN_O"
   ]
  },
  {
   "cell_type": "code",
   "execution_count": 25,
   "id": "965c2cbd",
   "metadata": {},
   "outputs": [],
   "source": [
    "mutemN_O=11992.282235953418\n",
    "mutemO_O=8720.61207492951\n",
    "muden_O=17714\n",
    "muabO3_O=0.0002855386810464501\n",
    "mulabO3_O=8.455664949104193\n",
    "muabO2_O= 1.5969492244934554e-05\n",
    "mulabO2_O=7.203291107827354\n",
    "muabN2_O=2.056094330211278e-06\n",
    "mulabN2_O=6.3130430354937\n",
    "muabCl3_O=4.397555721093508e-08\n",
    "mulabCl3_O= 4.643211351076656\n",
    "muabAr3_O= 2.210781840365603e-06\n",
    "mulabAr3_O= 6.344545888576011\n",
    "muabNe3_O= 6.0291879263677e-05\n",
    "mulabNe3_O= 7.780258820788977\n",
    "muabS2_O= 7.966138292084643e-08\n",
    "mulabS2_O= 4.901247841486808\n",
    "muabS3_O= 9.649936295842692e-06\n",
    "mulabS3_O= 6.984524446353604\n",
    "\n",
    "muabO_O=0.0003015078222171931\n",
    "\n",
    "mulabO_O=8.479298583811811\n",
    "\n",
    "muabN_O= 3.881993091378571e-05\n",
    "mulabN_O= 7.589054758157229\n",
    "muabAr_O= 3.5004700913600786e-06\n",
    "mulabAr_O= 6.544126371314412\n",
    "muabNe_O= 6.366381765631117e-05\n",
    "mulabNe_O= 7.803892677912968\n",
    "muabS_O= 0.00026789314265716365\n",
    "mulabS_O= 8.427961596981596"
   ]
  },
  {
   "cell_type": "code",
   "execution_count": 26,
   "id": "41c2a9a3",
   "metadata": {},
   "outputs": [],
   "source": [
    "mutemN_O= 10125.266288613397 \n",
    "mutemO_O=8516.582153008994\n",
    "muden_O=5904.842683111059\n",
    "mulabO3_O=8.352962214046137\n",
    "mulabO2_O=7.744567878546809\n",
    "mulabN2_O=6.901785916044947 \n",
    "mulabCl3_O=4.7728777228606125 \n",
    "mulabAr3_O= 6.3250501699898365\n",
    "mulabNe3_O=7.726031974758463\n",
    "mulabS2_O=5.527124834439969\n",
    "mulabS3_O=6.959506075480883\n",
    "mulabO_O=8.44861272776348\n",
    "mulabN_O=7.605830765261619 \n",
    "mulabAr_O=6.357534784113951\n",
    "mulabNe_O=7.821682488475805 \n",
    "mulabS_O=8.234709040408879\n",
    "\n",
    "muabO3_O=0.00022540430897584687\n",
    "muabO2_O=5.553514096128426e-05\n",
    "muabN2_O=7.976014155000124e-06 \n",
    "muabCl3_O=5.92758407867832e-08\n",
    "muabAr3_O=2.113733205610901e-06\n",
    "muabNe3_O=5.321474369679077e-05 \n",
    "muabS2_O=3.366083108103903e-07\n",
    "muabS3_O=9.109741960787672e-06 \n",
    "muabO_O= 0.00028093944993713113 \n",
    "muabN_O=4.0348813212856355e-05 \n",
    "muabAr_O=2.2779006793210584e-06\n",
    "muabNe_O=6.632579869768057e-05\n",
    "muabS_O=0.0001716757844050853"
   ]
  },
  {
   "cell_type": "code",
   "execution_count": 27,
   "id": "fb12074f",
   "metadata": {},
   "outputs": [],
   "source": [
    "#11990+580-910\n",
    "\n"
   ]
  },
  {
   "cell_type": "code",
   "execution_count": 28,
   "id": "2630e949",
   "metadata": {},
   "outputs": [],
   "source": [
    "#calcular error \n",
    "def sigma(mu,lista,N):\n",
    "    #se ordena la lista de Rn\n",
    "    listaordenado=np.sort(lista)\n",
    "    #se busca el valor de sigma izquierdo\n",
    "    contador_izquierdo=int(0.16*N)+1\n",
    "    contador_derecho=int(0.84*N)-1\n",
    "    sigma_izquierdo=mu-listaordenado[contador_izquierdo]\n",
    "    sigma_derecho=np.abs(mu-listaordenado[contador_derecho])\n",
    "        \n",
    "    return sigma_izquierdo,sigma_derecho"
   ]
  },
  {
   "cell_type": "code",
   "execution_count": 29,
   "id": "22073fef",
   "metadata": {},
   "outputs": [
    {
     "data": {
      "text/plain": [
       "(549.7236240313141, 995.2534494984211)"
      ]
     },
     "execution_count": 29,
     "metadata": {},
     "output_type": "execute_result"
    }
   ],
   "source": [
    "sigma(mutemN_HH,GtemN_HH,N)"
   ]
  },
  {
   "cell_type": "code",
   "execution_count": 30,
   "id": "08a0e366",
   "metadata": {},
   "outputs": [],
   "source": [
    "#calculo de errores \n",
    "sigmatemN_HH=sigma(mutemN_HH,GtemN_HH,N)\n",
    "sigmatemO_HH=sigma(mutemO_HH,GtemO_HH,N)\n",
    "sigmaden_HH=sigma(muden_HH,Gden_HH,N)\n",
    "sigmaabO3_HH=sigma(muabO3_HH,GabO3_HH,N)\n",
    "sigmalabO3_HH=(mulabO3_HH,GlabO3_HH,N)\n",
    "sigmaabO2_HH=sigma(muabO2_HH,GabO2_HH,N)\n",
    "sigmalabO2_HH=sigma(mulabO2_HH,GlabO2_HH,N)\n",
    "sigmaabN2_HH=sigma(muabN2_HH,GabN2_HH,N)\n",
    "sigmalabN2_HH=(mulabN2_HH,GlabN2_HH,N)\n",
    "sigmaabCl3_HH=sigma(muabCl3_HH,GabCl3_HH,N)\n",
    "sigmalabCl3_HH=sigma(mulabCl3_HH,GlabCl3_HH,N)\n",
    "sigmaabAr3_HH=sigma(muabAr3_HH,GabAr3_HH,N)\n",
    "sigmalabAr3_HH=sigma(mulabAr3_HH,GlabAr3_HH,N)\n",
    "sigmaabNe3_HH=sigma(muabNe3_HH,GabNe3_HH,N)\n",
    "sigmalabNe3_HH=sigma(mulabNe3_HH,GlabNe3_HH,N)\n",
    "sigmaabS2_HH=sigma(muabS2_HH,GabS2_HH,N)\n",
    "sigmalabS2_HH=sigma(mulabS2_HH,GlabS2_HH,N)\n",
    "sigmaabS3_HH=sigma(muabS3_HH,GabS3_HH,N)\n",
    "sigmalabS3_HH=sigma(mulabS3_HH,GlabS3_HH,N)\n",
    "sigmaabO_HH=sigma(muabO_HH,GabO_HH,N)\n",
    "sigmalabO_HH=sigma(mulabO_HH,GlabO_HH,N)\n",
    "sigmaabN_HH=sigma(muabN_HH,GabN_HH,N)\n",
    "sigmalabN_HH=sigma(mulabN_HH,GlabN_HH,N)\n",
    "sigmaabAr_HH=sigma(muabAr_HH,GabAr_HH,N)\n",
    "sigmalabAr_HH=sigma(mulabAr_HH,GlabAr_HH,N)\n",
    "sigmaabNe_HH=sigma(muabNe_HH,GabNe_HH,N)\n",
    "sigmalabNe_HH=sigma(mulabNe_HH,GlabNe_HH,N)\n",
    "sigmaabS_HH=sigma(muabS_HH,GabS_HH,N)\n",
    "sigmalabS_HH=sigma(mulabS_HH,GlabS_HH,N)"
   ]
  },
  {
   "cell_type": "code",
   "execution_count": 31,
   "id": "97e792c6",
   "metadata": {},
   "outputs": [],
   "source": [
    "#calculo de errores \n",
    "sigmatemN_O=sigma(mutemN_O,GtemN_O,N)\n",
    "sigmatemO_O=sigma(mutemO_O,GtemO_O,N)\n",
    "sigmaden_O=sigma(muden_O,Gden_O,N)\n",
    "sigmaabO3_O=sigma(muabO3_O,GabO3_O,N)\n",
    "sigmalabO3_O=(mulabO3_O,GlabO3_O,N)\n",
    "sigmaabO2_O=sigma(muabO2_O,GabO2_O,N)\n",
    "sigmalabO2_O=sigma(mulabO2_O,GlabO2_O,N)\n",
    "sigmaabN2_O=sigma(muabN2_O,GabN2_O,N)\n",
    "sigmalabN2_O=(mulabN2_O,GlabN2_O,N)\n",
    "sigmaabCl3_O=sigma(muabCl3_O,GabCl3_O,N)\n",
    "sigmalabCl3_O=sigma(mulabCl3_O,GlabCl3_O,N)\n",
    "sigmaabAr3_O=sigma(muabAr3_O,GabAr3_O,N)\n",
    "sigmalabAr3_O=sigma(mulabAr3_O,GlabAr3_O,N)\n",
    "sigmaabNe3_O=sigma(muabNe3_O,GabNe3_O,N)\n",
    "sigmalabNe3_O=sigma(mulabNe3_O,GlabNe3_O,N)\n",
    "sigmaabS2_O=sigma(muabS2_O,GabS2_O,N)\n",
    "sigmalabS2_O=sigma(mulabS2_O,GlabS2_O,N)\n",
    "sigmaabS3_O=sigma(muabS3_O,GabS3_O,N)\n",
    "sigmalabS3_O=sigma(mulabS3_O,GlabS3_O,N)\n",
    "sigmaabO_O=sigma(muabO_O,GabO_O,N)\n",
    "sigmalabO_O=sigma(mulabO_O,GlabO_O,N)\n",
    "sigmaabN_O=sigma(muabN_O,GabN_O,N)\n",
    "sigmalabN_O=sigma(mulabN_O,GlabN_O,N)\n",
    "sigmaabAr_O=sigma(muabAr_O,GabAr_O,N)\n",
    "sigmalabAr_O=sigma(mulabAr_O,GlabAr_O,N)\n",
    "sigmaabNe_O=sigma(muabNe_O,GabNe_O,N)\n",
    "sigmalabNe_O=sigma(mulabNe_O,GlabNe_O,N)\n",
    "sigmaabS_O=sigma(muabS_O,GabS_O,N)\n",
    "sigmalabS_O=sigma(mulabS_O,GlabS_O,N)"
   ]
  },
  {
   "cell_type": "code",
   "execution_count": 32,
   "id": "344b754b",
   "metadata": {},
   "outputs": [
    {
     "data": {
      "text/plain": [
       "(8720.61207492951, (73.81866169464956, 79.39798535742739))"
      ]
     },
     "execution_count": 32,
     "metadata": {},
     "output_type": "execute_result"
    }
   ],
   "source": [
    "(mutemO_HH,sigmatemO_HH)\n"
   ]
  },
  {
   "cell_type": "code",
   "execution_count": 35,
   "id": "87a61358",
   "metadata": {},
   "outputs": [],
   "source": [
    "def graficar(mu,lista,sig,nbin):\n",
    "    plt.hist(lista,nbin)\n",
    "    plt.axvline(x = mu, color = 'r', label = 'axvline - full height')\n",
    "    plt.axvline(x = mu-sig[0], color = 'g', label = 'axvline - full height')\n",
    "    plt.axvline(x = mu+sig[1], color = 'g', label = 'axvline - full height')\n",
    "    "
   ]
  },
  {
   "cell_type": "code",
   "execution_count": 36,
   "id": "106e16f0",
   "metadata": {},
   "outputs": [
    {
     "data": {
      "text/plain": [
       "Text(0.5, 1.0, 'den O')"
      ]
     },
     "execution_count": 36,
     "metadata": {},
     "output_type": "execute_result"
    },
    {
     "data": {
      "image/png": "[encoded data removed]",
      "text/plain": [
       "<Figure size 640x480 with 1 Axes>"
      ]
     },
     "metadata": {},
     "output_type": "display_data"
    }
   ],
   "source": [
    "graficar(muden_O,Gden_O,sigmaden_O,15)\n",
    "plt.title('den O')"
   ]
  },
  {
   "cell_type": "code",
   "execution_count": 37,
   "id": "4c8c4ce1",
   "metadata": {},
   "outputs": [
    {
     "data": {
      "text/plain": [
       "(array([ 36., 250., 175.,  30.,   4.,   2.,   1.,   1.,   0.,   1.]),\n",
       " array([-0.05910358, -0.01404854,  0.03100651,  0.07606156,  0.1211166 ,\n",
       "         0.16617165,  0.21122669,  0.25628174,  0.30133679,  0.34639183,\n",
       "         0.39144688]),\n",
       " <BarContainer object of 10 artists>)"
      ]
     },
     "execution_count": 37,
     "metadata": {},
     "output_type": "execute_result"
    },
    {
     "data": {
      "image/png": "[encoded data removed]",
      "text/plain": [
       "<Figure size 640x480 with 1 Axes>"
      ]
     },
     "metadata": {},
     "output_type": "display_data"
    }
   ],
   "source": [
    "plt.hist(np.array(GlabO_HH)-np.array(GlabO_O),10)"
   ]
  },
  {
   "cell_type": "code",
   "execution_count": 38,
   "id": "4294cf6a",
   "metadata": {},
   "outputs": [
    {
     "data": {
      "text/plain": [
       "(array([  7.,  11.,  20.,  44.,  77.,  89., 121.,  90.,  28.,  13.]),\n",
       " array([-0.2674969 , -0.22158251, -0.17566813, -0.12975374, -0.08383935,\n",
       "        -0.03792497,  0.00798942,  0.05390381,  0.09981819,  0.14573258,\n",
       "         0.19164697]),\n",
       " <BarContainer object of 10 artists>)"
      ]
     },
     "execution_count": 38,
     "metadata": {},
     "output_type": "execute_result"
    },
    {
     "data": {
      "image/png": "[encoded data removed]",
      "text/plain": [
       "<Figure size 640x480 with 1 Axes>"
      ]
     },
     "metadata": {},
     "output_type": "display_data"
    }
   ],
   "source": [
    "plt.hist(np.array(GlabN_HH)-np.array(GlabN_O),10)"
   ]
  },
  {
   "cell_type": "code",
   "execution_count": 39,
   "id": "eee37f3d",
   "metadata": {},
   "outputs": [
    {
     "data": {
      "text/plain": [
       "(array([  1.,   1.,   3.,  11.,  18.,  66., 137., 157.,  90.,  16.]),\n",
       " array([-0.14137252, -0.09176746, -0.04216239,  0.00744267,  0.05704773,\n",
       "         0.10665279,  0.15625786,  0.20586292,  0.25546798,  0.30507304,\n",
       "         0.35467811]),\n",
       " <BarContainer object of 10 artists>)"
      ]
     },
     "execution_count": 39,
     "metadata": {},
     "output_type": "execute_result"
    },
    {
     "data": {
      "image/png": "[encoded data removed]",
      "text/plain": [
       "<Figure size 640x480 with 1 Axes>"
      ]
     },
     "metadata": {},
     "output_type": "display_data"
    }
   ],
   "source": [
    "plt.hist(np.array(GlabS_HH)-np.array(GlabS_O),10)"
   ]
  },
  {
   "cell_type": "code",
   "execution_count": 40,
   "id": "2f139864",
   "metadata": {},
   "outputs": [
    {
     "data": {
      "text/plain": [
       "(array([ 38., 248., 174.,  32.,   3.,   2.,   1.,   1.,   0.,   1.]),\n",
       " array([-0.10513015, -0.06118882, -0.01724749,  0.02669384,  0.07063517,\n",
       "         0.11457649,  0.15851782,  0.20245915,  0.24640048,  0.29034181,\n",
       "         0.33428314]),\n",
       " <BarContainer object of 10 artists>)"
      ]
     },
     "execution_count": 40,
     "metadata": {},
     "output_type": "execute_result"
    },
    {
     "data": {
      "image/png": "[encoded data removed]",
      "text/plain": [
       "<Figure size 640x480 with 1 Axes>"
      ]
     },
     "metadata": {},
     "output_type": "display_data"
    }
   ],
   "source": [
    "plt.hist(np.array(GlabNe_HH)-np.array(GlabNe_O),10)"
   ]
  },
  {
   "cell_type": "code",
   "execution_count": 41,
   "id": "9ffe7fa2",
   "metadata": {},
   "outputs": [
    {
     "data": {
      "text/plain": [
       "(array([  7.,  36.,  64.,  93., 107.,  95.,  55.,  33.,   7.,   3.]),\n",
       " array([0.01025154, 0.05506036, 0.09986918, 0.144678  , 0.18948682,\n",
       "        0.23429564, 0.27910446, 0.32391328, 0.3687221 , 0.41353092,\n",
       "        0.45833974]),\n",
       " <BarContainer object of 10 artists>)"
      ]
     },
     "execution_count": 41,
     "metadata": {},
     "output_type": "execute_result"
    },
    {
     "data": {
      "image/png": "[encoded data removed]",
      "text/plain": [
       "<Figure size 640x480 with 1 Axes>"
      ]
     },
     "metadata": {},
     "output_type": "display_data"
    }
   ],
   "source": [
    "plt.hist(np.array(GlabAr_HH)-np.array(GlabAr_O),10)"
   ]
  },
  {
   "cell_type": "code",
   "execution_count": 42,
   "id": "d5c649a9",
   "metadata": {},
   "outputs": [
    {
     "data": {
      "text/plain": [
       "<AxesSubplot:>"
      ]
     },
     "execution_count": 42,
     "metadata": {},
     "output_type": "execute_result"
    },
    {
     "data": {
      "image/png": "[encoded data removed]",
      "text/plain": [
       "<Figure size 640x480 with 1 Axes>"
      ]
     },
     "metadata": {},
     "output_type": "display_data"
    }
   ],
   "source": [
    "\n",
    "plt.subplot(2, 2, 2)"
   ]
  },
  {
   "cell_type": "code",
   "execution_count": 44,
   "id": "d98ae3e0",
   "metadata": {},
   "outputs": [
    {
     "data": {
      "image/png": "[encoded data removed]",
      "text/plain": [
       "<Figure size 1200x800 with 6 Axes>"
      ]
     },
     "metadata": {},
     "output_type": "display_data"
    }
   ],
   "source": [
    "import matplotlib.pyplot as plt\n",
    "import numpy as np\n",
    "\n",
    "# Datos para los histogramas (estos son datos de ejemplo)\n",
    "data1 = np.array(GlabO_HH)-np.array(GlabO_O)\n",
    "data2 = np.array(GlabN_HH)-np.array(GlabN_O)\n",
    "data3 = np.array(GlabS_HH)-np.array(GlabS_O)\n",
    "data4 = np.array(GlabNe_HH)-np.array(GlabNe_O)\n",
    "data5 = np.array(GlabAr_HH)-np.array(GlabAr_O)\n",
    "\n",
    "# Crear una figura y subplots\n",
    "fig, axs = plt.subplots(2, 3, figsize=(12, 8))\n",
    "\n",
    "# Histograma del primer subplot\n",
    "axs[0, 0].hist(data1, bins=20)\n",
    "axs[0, 0].set_title('Oxígeno')\n",
    "\n",
    "# Histograma del segundo subplot\n",
    "axs[0, 1].hist(data2, bins=20)\n",
    "axs[0, 1].set_title('Nitrógeno')\n",
    "\n",
    "# Histograma del tercer subplot\n",
    "axs[0, 2].hist(data3, bins=20)\n",
    "axs[0, 2].set_title('Azufre')\n",
    "\n",
    "# Histograma del cuarto subplot\n",
    "axs[1, 0].hist(data4, bins=20)\n",
    "axs[1, 0].set_title('Neón')\n",
    "\n",
    "# Histograma del quinto subplot\n",
    "axs[1, 1].hist(data5, bins=20)\n",
    "axs[1, 1].set_title('Argón')\n",
    "\n",
    "# Eliminar el espacio entre subplots\n",
    "plt.tight_layout()\n",
    "\n",
    "# Mostrar el gráfico\n",
    "plt.savefig(\"comparison.pdf\")\n",
    "plt.show()\n"
   ]
  },
  {
   "cell_type": "code",
   "execution_count": null,
   "id": "c99fd298",
   "metadata": {},
   "outputs": [],
   "source": []
  }
 ],
 "metadata": {
  "kernelspec": {
   "display_name": "Python 3 (ipykernel)",
   "language": "python",
   "name": "python3"
  },
  "language_info": {
   "codemirror_mode": {
    "name": "ipython",
    "version": 3
   },
   "file_extension": ".py",
   "mimetype": "text/x-python",
   "name": "python",
   "nbconvert_exporter": "python",
   "pygments_lexer": "ipython3",
   "version": "3.10.6"
  }
 },
 "nbformat": 4,
 "nbformat_minor": 5
}
